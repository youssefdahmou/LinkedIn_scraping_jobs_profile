{
 "cells": [
  {
   "cell_type": "code",
   "execution_count": 32,
   "id": "275c2bf2",
   "metadata": {},
   "outputs": [],
   "source": [
    "from selenium.webdriver.common.keys import Keys\n",
    "import time\n",
    "import pandas as pd \n",
    "# for UserAgent \n",
    "from random_user_agent.user_agent import UserAgent\n",
    "from random_user_agent.params import SoftwareName\n",
    "\n",
    "from msedge.selenium_tools import EdgeOptions\n",
    "from msedge.selenium_tools import Edge"
   ]
  },
  {
   "cell_type": "code",
   "execution_count": 79,
   "id": "983c63a2",
   "metadata": {},
   "outputs": [
    {
     "data": {
      "text/plain": [
       "'Mozilla/5.0 (Windows Phone 10.0; Android 4.2.1; WebView/3.0) AppleWebKit/537.36 (KHTML, like Gecko) coc_coc_browser/61.111.167 Chrome/46.0.2486.0 Mobile Safari/537.36 Edge/13.10586'"
      ]
     },
     "execution_count": 79,
     "metadata": {},
     "output_type": "execute_result"
    }
   ],
   "source": [
    "def select_random_user_agent():\n",
    "    software_names = [SoftwareName.EDGE.value]\n",
    "    user_agent_rotator = UserAgent(software_names=[SoftwareName.EDGE.value], limit=100)\n",
    "\n",
    "    # Get list of user agents.\n",
    "    user_agents = user_agent_rotator.get_user_agents()\n",
    "\n",
    "    # Get Random User Agent String.\n",
    "    return user_agent_rotator.get_random_user_agent()\n",
    "select_random_user_agent()"
   ]
  },
  {
   "cell_type": "code",
   "execution_count": 70,
   "id": "e3f07ea0",
   "metadata": {},
   "outputs": [
    {
     "name": "stderr",
     "output_type": "stream",
     "text": [
      "C:\\Users\\Dell\\AppData\\Local\\Temp\\ipykernel_13972\\153072676.py:17: DeprecationWarning: Selenium Tools for Microsoft Edge is deprecated. Please upgrade to Selenium 4 which has built-in support for Microsoft Edge (Chromium): https://docs.microsoft.com/en-us/microsoft-edge/webdriver-chromium/#upgrading-from-selenium-3\n",
      "  driver = Edge(executable_path='C:\\Program Files (x86)\\msedgedriver.exe', options=options)\n"
     ]
    }
   ],
   "source": [
    "user_agent = select_random_user_agent()\n",
    "\n",
    "options = EdgeOptions()\n",
    "options.set_capability('mobileEmulation',{\"userAgent\" : user_agent}) \n",
    "\n",
    "path = 'C:\\Program Files (x86)\\msedgedriver.exe'\n",
    "driver = Edge(executable_path='C:\\Program Files (x86)\\msedgedriver.exe', options=options)\n",
    "driver.get('https://www.linkedin.com/jobs/search/?currentJobId=3129956217')"
   ]
  },
  {
   "cell_type": "code",
   "execution_count": 60,
   "id": "8d029211",
   "metadata": {},
   "outputs": [],
   "source": [
    "United_States = ['Alabama, United States','Alaska, United States','Arizona, United States','Arkansas, United States',\n",
    "       'California, United States','Colorado, United States','Connecticut, United States','Delaware, United States',\n",
    "       'Florida, United States','Georgia, United States','Hawaii, United States','Idaho, United States',\n",
    "       'Illinois, United States','Indiana, United States','Iowa, United States','Kansas, United States',\n",
    "       'Kentucky, United States','Louisiana, United States','Maine, United States','Maryland, United States',\n",
    "       'Massachusetts, United States','Michigan, United States','Minnesota, United States','Mississippi, United States',\n",
    "       'Missouri, United States','Montana, United States','Nebraska, United States','Nevada, United States',\n",
    "       'New Hampshire, United States','New Jersey, United States','New Mexico, United States','New York, United States',\n",
    "       'North Carolina, United States','North Dakota, United States','Ohio, United States','Oklahoma, United States',\n",
    "       'Oregon, United States','Pennsylvania, United States','Rhode Island, United States','South Carolina, United States',\n",
    "       'South Dakota, United States','Tennessee, United States','Texas, United States','Utah, United States',\n",
    "       'Vermont, United States','Virginia, United States','Washington, United States','West Virginia, United States',\n",
    "       'Wisconsin, United States','Wyoming, United States']"
   ]
  },
  {
   "cell_type": "code",
   "execution_count": 54,
   "id": "8ae6c6cc",
   "metadata": {},
   "outputs": [],
   "source": [
    "def jobs_count():\n",
    "    old_jobs_count = float(driver.find_element_by_class_name('results-context-header__job-count').text.strip('+').replace(',',''))   #  '6,260,000+' ===> 6260000 \n",
    "    new_jobs_count = float(driver.find_element_by_class_name('results-context-header__new-jobs').text.strip('(,),new ').replace(',',''))  #  '(258,587 new)' ===> 258587.0 \n",
    "    return   old_jobs_count + new_jobs_count"
   ]
  },
  {
   "cell_type": "code",
   "execution_count": 53,
   "id": "85cbe51e",
   "metadata": {},
   "outputs": [],
   "source": [
    "def change_location_to(united):\n",
    "    country_section = driver.find_element_by_name(\"location\")\n",
    "    country_section.click()\n",
    "    country_section.clear()\n",
    "    country_section.send_keys(united)\n",
    "    country_section.send_keys(Keys.RETURN)\n",
    "    return time.sleep(15) "
   ]
  },
  {
   "cell_type": "code",
   "execution_count": 57,
   "id": "6467e611",
   "metadata": {},
   "outputs": [],
   "source": [
    "domain_section  = driver.find_element_by_name(\"keywords\" )\n",
    "#domain_section.click()\n",
    "domain_section.clear()                   \n",
    "domain_section.send_keys('software engineer')"
   ]
  },
  {
   "cell_type": "code",
   "execution_count": 58,
   "id": "8616476c",
   "metadata": {},
   "outputs": [
    {
     "data": {
      "text/plain": [
       "[['Alabama, United States', 3131.0],\n",
       " ['Alaska, United States', 337.0],\n",
       " ['Arizona, United States', 5216.0],\n",
       " ['Arkansas, United States', 1107.0],\n",
       " ['California, United States', 48445.0],\n",
       " ['Colorado, United States', 8209.0],\n",
       " ['Connecticut, United States', 2132.0],\n",
       " ['Delaware, United States', 1232.0],\n",
       " ['Florida, United States', 11703.0],\n",
       " ['Georgia, United States', 9548.0],\n",
       " ['Hawaii, United States', 636.0],\n",
       " ['Idaho, United States', 966.0],\n",
       " ['Illinois, United States', 11722.0],\n",
       " ['Indiana, United States', 3231.0],\n",
       " ['Iowa, United States', 1141.0],\n",
       " ['Kansas, United States', 1124.0],\n",
       " ['Kentucky, United States', 1142.0],\n",
       " ['Louisiana, United States', 1077.0],\n",
       " ['Maine, United States', 727.0],\n",
       " ['Maryland, United States', 12460.0],\n",
       " ['Massachusetts, United States', 10518.0],\n",
       " ['Michigan, United States', 6290.0],\n",
       " ['Minnesota, United States', 4194.0],\n",
       " ['Mississippi, United States', 684.0],\n",
       " ['Missouri, United States', 4221.0],\n",
       " ['Montana, United States', 671.0],\n",
       " ['Nebraska, United States', 1061.0],\n",
       " ['Nevada, United States', 1051.0],\n",
       " ['New Hampshire, United States', 1088.0],\n",
       " ['New Jersey, United States', 10339.0],\n",
       " ['New Mexico, United States', 1053.0],\n",
       " ['New York, United States', 15714.0],\n",
       " ['North Carolina, United States', 10510.0],\n",
       " ['North Dakota, United States', 495.0],\n",
       " ['Ohio, United States', 7489.0],\n",
       " ['Oklahoma, United States', 1098.0],\n",
       " ['Oregon, United States', 2103.0],\n",
       " ['Pennsylvania, United States', 8348.0],\n",
       " ['Rhode Island, United States', 1064.0],\n",
       " ['South Carolina, United States', 1131.0],\n",
       " ['South Dakota, United States', 492.0],\n",
       " ['Tennessee, United States', 3214.0],\n",
       " ['Texas, United States', 29418.0],\n",
       " ['Utah, United States', 3107.0],\n",
       " ['Vermont, United States', 466.0],\n",
       " ['Virginia, United States', 20396.0],\n",
       " ['Washington, United States', 26201.0],\n",
       " ['West Virginia, United States', 736.0],\n",
       " ['Wisconsin, United States', 3161.0],\n",
       " ['Wyoming, United States', 399.0]]"
      ]
     },
     "execution_count": 58,
     "metadata": {},
     "output_type": "execute_result"
    }
   ],
   "source": [
    "#jobs_data  = []  \n",
    "for united in United_States[37:] :\n",
    "    change_location_to(united)\n",
    "    jobs_data.append([united , jobs_count()])\n",
    "jobs_data "
   ]
  },
  {
   "cell_type": "code",
   "execution_count": 65,
   "id": "8250218b",
   "metadata": {},
   "outputs": [],
   "source": [
    "data=pd.DataFrame(jobs_data , columns=['state' ,'jobs_count'])"
   ]
  },
  {
   "cell_type": "code",
   "execution_count": 66,
   "id": "bbac8f75",
   "metadata": {},
   "outputs": [],
   "source": [
    "data.to_csv('jobs_count_data.csv', index = False)"
   ]
  },
  {
   "cell_type": "code",
   "execution_count": 78,
   "id": "93815766",
   "metadata": {},
   "outputs": [],
   "source": [
    "driver.close()"
   ]
  },
  {
   "cell_type": "code",
   "execution_count": null,
   "id": "bb6aeeb1",
   "metadata": {},
   "outputs": [],
   "source": [
    "#"
   ]
  },
  {
   "cell_type": "code",
   "execution_count": null,
   "id": "490a5615",
   "metadata": {},
   "outputs": [],
   "source": []
  }
 ],
 "metadata": {
  "kernelspec": {
   "display_name": "Python 3 (ipykernel)",
   "language": "python",
   "name": "python3"
  },
  "language_info": {
   "codemirror_mode": {
    "name": "ipython",
    "version": 3
   },
   "file_extension": ".py",
   "mimetype": "text/x-python",
   "name": "python",
   "nbconvert_exporter": "python",
   "pygments_lexer": "ipython3",
   "version": "3.9.12"
  }
 },
 "nbformat": 4,
 "nbformat_minor": 5
}
